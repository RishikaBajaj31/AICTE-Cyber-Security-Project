{
  "nbformat": 4,
  "nbformat_minor": 0,
  "metadata": {
    "colab": {
      "provenance": [],
      "authorship_tag": "ABX9TyNcsrpFaBAdILEt+2fQfnpI"
    },
    "kernelspec": {
      "name": "python3",
      "display_name": "Python 3"
    },
    "language_info": {
      "name": "python"
    }
  },
  "cells": [
    {
      "cell_type": "code",
      "execution_count": 1,
      "metadata": {
        "colab": {
          "base_uri": "https://localhost:8080/"
        },
        "id": "Qhsb46mTGP2i",
        "outputId": "d6b6cc29-eeee-43dd-a23a-b9e90983be45"
      },
      "outputs": [
        {
          "output_type": "stream",
          "name": "stdout",
          "text": [
            "Enter secret message:hello\n",
            "Enter a passcode:123\n",
            "Enter passcode for Decryption123\n",
            "Decryption message: hello\n"
          ]
        }
      ],
      "source": [
        "import cv2\n",
        "import os\n",
        "import string\n",
        "img = cv2.imread(\"/content/31db704a25c0b84bdc3d321684fa68e8.jpg\")\n",
        "msg = input(\"Enter secret message:\")\n",
        "password = input(\"Enter a passcode:\")\n",
        "d = {}\n",
        "c = {}\n",
        "for i in range(255):\n",
        "    d[chr(i)] = i\n",
        "    c[i] = chr(i)\n",
        "m = 0\n",
        "n = 0\n",
        "z = 0\n",
        "for i in range(len(msg)):\n",
        "    img[n, m, z] = d[msg[i]]\n",
        "    n = n + 1\n",
        "    m = m + 1\n",
        "    z = (z + 1) % 3\n",
        "cv2.imwrite(\"encryptedImage.jpg\", img)\n",
        "os.system(\"start encryptedImage.jpg\")\n",
        "message = \"\"\n",
        "n = 0\n",
        "m = 0\n",
        "z = 0\n",
        "pas = input(\"Enter passcode for Decryption\")\n",
        "if password == pas:\n",
        "    for i in range(len(msg)):\n",
        "        message = message + c[img[n, m, z]]\n",
        "        n = n + 1\n",
        "        m = m + 1\n",
        "        z = (z + 1) % 3\n",
        "    print(\"Decryption message:\", message)\n",
        "else:\n",
        "    print(\"YOU ARE NOT auth\")"
      ]
    }
  ]
}